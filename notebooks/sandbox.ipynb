{
 "cells": [
  {
   "cell_type": "code",
   "execution_count": null,
   "id": "located-thesis",
   "metadata": {},
   "outputs": [],
   "source": [
    "%load_ext dotenv\n",
    "%dotenv"
   ]
  },
  {
   "cell_type": "code",
   "execution_count": null,
   "id": "regulation-adaptation",
   "metadata": {},
   "outputs": [],
   "source": [
    "import pandas_datareader as pdr\n",
    "import pandas as pd\n",
    "import matplotlib.pyplot as plt\n",
    "import numpy as np\n",
    "import arrow"
   ]
  },
  {
   "cell_type": "code",
   "execution_count": null,
   "id": "serious-lending",
   "metadata": {},
   "outputs": [],
   "source": [
    "ticker = pdr.quandl.QuandlReader('AAPL', '2000-01-01', '2018-03-27').read()"
   ]
  },
  {
   "cell_type": "code",
   "execution_count": null,
   "id": "facial-gallery",
   "metadata": {},
   "outputs": [],
   "source": [
    "ticker = ticker.sort_index()"
   ]
  },
  {
   "cell_type": "code",
   "execution_count": null,
   "id": "false-conspiracy",
   "metadata": {},
   "outputs": [],
   "source": [
    "ticker.loc['2007'].head()"
   ]
  },
  {
   "cell_type": "code",
   "execution_count": null,
   "id": "broadband-weekend",
   "metadata": {},
   "outputs": [],
   "source": [
    "ticker.index"
   ]
  },
  {
   "cell_type": "code",
   "execution_count": null,
   "id": "static-sessions",
   "metadata": {},
   "outputs": [],
   "source": [
    "ticker.columns"
   ]
  },
  {
   "cell_type": "code",
   "execution_count": null,
   "id": "graphic-restaurant",
   "metadata": {},
   "outputs": [],
   "source": [
    "ts = ticker['Close'][-10:]"
   ]
  },
  {
   "cell_type": "code",
   "execution_count": null,
   "id": "historic-familiar",
   "metadata": {},
   "outputs": [],
   "source": [
    "type(ts)"
   ]
  },
  {
   "cell_type": "code",
   "execution_count": null,
   "id": "cardiac-savings",
   "metadata": {},
   "outputs": [],
   "source": [
    "ticker.loc[pd.Timestamp('2006-11-01'):pd.Timestamp('2006-12-31')].head()"
   ]
  },
  {
   "cell_type": "code",
   "execution_count": null,
   "id": "accompanied-rainbow",
   "metadata": {},
   "outputs": [],
   "source": [
    "monthly = ticker.resample('M').mean()"
   ]
  },
  {
   "cell_type": "code",
   "execution_count": null,
   "id": "quantitative-thanksgiving",
   "metadata": {},
   "outputs": [],
   "source": [
    "print(monthly.tail())"
   ]
  },
  {
   "cell_type": "code",
   "execution_count": null,
   "id": "broadband-armstrong",
   "metadata": {},
   "outputs": [],
   "source": [
    "ticker.asfreq('M', method='bfill')"
   ]
  },
  {
   "cell_type": "code",
   "execution_count": null,
   "id": "respected-deficit",
   "metadata": {},
   "outputs": [],
   "source": [
    "ticker['Close'].plot(grid=True)"
   ]
  },
  {
   "cell_type": "code",
   "execution_count": null,
   "id": "continuing-kingston",
   "metadata": {},
   "outputs": [],
   "source": [
    "daily_close = ticker[['AdjClose']]"
   ]
  },
  {
   "cell_type": "code",
   "execution_count": null,
   "id": "behavioral-domestic",
   "metadata": {},
   "outputs": [],
   "source": [
    "daily_pct_change = daily_close.pct_change()"
   ]
  },
  {
   "cell_type": "code",
   "execution_count": null,
   "id": "appointed-cigarette",
   "metadata": {},
   "outputs": [],
   "source": [
    "# Assign `Adj Close` to `daily_close`\n",
    "daily_close = ticker[['AdjClose']]\n",
    "\n",
    "# Daily returns\n",
    "daily_pct_change = daily_close.pct_change()\n",
    "\n",
    "# Replace NA values with 0\n",
    "daily_pct_change.fillna(0, inplace=True)\n",
    "\n",
    "# Inspect daily returns\n",
    "print(daily_pct_change)\n",
    "\n",
    "# Daily log returns\n",
    "daily_log_returns = np.log(daily_close.pct_change()+1)\n",
    "\n",
    "# Print daily log returns\n",
    "print(daily_log_returns)"
   ]
  },
  {
   "cell_type": "code",
   "execution_count": null,
   "id": "commercial-listing",
   "metadata": {},
   "outputs": [],
   "source": [
    "# Resample `ticker` to business months, take last observation as value \n",
    "monthly = ticker.resample('BM').apply(lambda x: x[-1])\n",
    "\n",
    "# calculate monthly percentage change\n",
    "print(monthly.pct_change())\n",
    "\n",
    "# resample ticker to quarters, take the mean as value per quarter\n",
    "quarter = ticker.resample('4M').mean()\n",
    "\n",
    "#quarter.pct_change()\n"
   ]
  },
  {
   "cell_type": "code",
   "execution_count": null,
   "id": "aerial-english",
   "metadata": {},
   "outputs": [],
   "source": [
    "# this is what pct_change does behind the scenes\n",
    "daily_pct_change = daily_close / daily_close.shift(1) - 1\n",
    "\n",
    "# Print `daily_pct_change`\n",
    "print(daily_pct_change)"
   ]
  },
  {
   "cell_type": "code",
   "execution_count": null,
   "id": "covered-underwear",
   "metadata": {},
   "outputs": [],
   "source": [
    "daily_log_returns_shift = np.log(daily_close / daily_close.shift(1))"
   ]
  },
  {
   "cell_type": "code",
   "execution_count": null,
   "id": "front-greensboro",
   "metadata": {},
   "outputs": [],
   "source": [
    "print(daily_log_returns_shift)"
   ]
  },
  {
   "cell_type": "code",
   "execution_count": null,
   "id": "unauthorized-queue",
   "metadata": {},
   "outputs": [],
   "source": [
    "# Plot the distribution of `daily_pct_c`\n",
    "daily_pct_change.hist(bins=50)\n",
    "\n",
    "# Show the plot\n",
    "plt.show()\n",
    "\n",
    "# Pull up summary statistics\n",
    "print(daily_pct_change.describe())"
   ]
  },
  {
   "cell_type": "code",
   "execution_count": null,
   "id": "narrative-choir",
   "metadata": {},
   "outputs": [],
   "source": [
    "# Calculate the cumulative daily returns\n",
    "cum_daily_return = (1 + daily_pct_change).cumprod()\n",
    "\n",
    "# Print `cum_daily_return`\n",
    "print(cum_daily_return)"
   ]
  },
  {
   "cell_type": "code",
   "execution_count": null,
   "id": "mechanical-fitness",
   "metadata": {},
   "outputs": [],
   "source": [
    "# Plot the cumulative daily returns\n",
    "cum_daily_return.plot(figsize=(12,8))\n",
    "\n",
    "# Show the plot\n",
    "plt.show()"
   ]
  },
  {
   "cell_type": "code",
   "execution_count": null,
   "id": "provincial-request",
   "metadata": {},
   "outputs": [],
   "source": [
    "cum_monthly_return = cum_daily_return.resample('M').mean()\n",
    "print(cum_monthly_return)"
   ]
  },
  {
   "cell_type": "code",
   "execution_count": null,
   "id": "piano-brother",
   "metadata": {},
   "outputs": [],
   "source": [
    "daily_returns = ticker['AdjClose'].pct_change()\n"
   ]
  },
  {
   "cell_type": "code",
   "execution_count": null,
   "id": "southern-madison",
   "metadata": {},
   "outputs": [],
   "source": [
    "print(daily_returns)"
   ]
  },
  {
   "cell_type": "code",
   "execution_count": null,
   "id": "homeless-irrigation",
   "metadata": {},
   "outputs": [],
   "source": [
    "monthly_close = ticker['AdjClose'].resample('M').ffill()"
   ]
  },
  {
   "cell_type": "code",
   "execution_count": null,
   "id": "flush-european",
   "metadata": {},
   "outputs": [],
   "source": [
    "monthly_close"
   ]
  },
  {
   "cell_type": "raw",
   "id": "orange-showcase",
   "metadata": {},
   "source": [
    "ticker.index"
   ]
  },
  {
   "cell_type": "code",
   "execution_count": null,
   "id": "outer-garbage",
   "metadata": {},
   "outputs": [],
   "source": [
    "now = arrow.get('2017-10-03')"
   ]
  },
  {
   "cell_type": "code",
   "execution_count": null,
   "id": "stainless-decline",
   "metadata": {},
   "outputs": [],
   "source": [
    "# calculate lookback period for momentum\n",
    "# start period defined as the first day of the month, 13 months ago, enabling us to get initial value to compare\n",
    "start_period = now.shift(months=-12).replace(day=1).format('YYYY-MM-DD')\n",
    "# end period excludes the most recent full month, (exclusive)\n",
    "end_period = now.shift(months=-1).replace(day=1).format('YYYY-MM-DD')"
   ]
  },
  {
   "cell_type": "code",
   "execution_count": null,
   "id": "vietnamese-vehicle",
   "metadata": {},
   "outputs": [],
   "source": [
    "print(start_period)\n",
    "print(end_period)"
   ]
  },
  {
   "cell_type": "code",
   "execution_count": null,
   "id": "going-collect",
   "metadata": {
    "tags": []
   },
   "outputs": [],
   "source": [
    "# calculate percent change taking the last value as observation\n",
    "monthly_ticker = ticker[start_period:end_period].resample('M').apply(lambda x: x[-1]).pct_change()"
   ]
  },
  {
   "cell_type": "code",
   "execution_count": null,
   "id": "acting-sheet",
   "metadata": {},
   "outputs": [],
   "source": [
    "monthly_ticker[\"gross_returns\"] = monthly_ticker[\"AdjClose\"] + 1"
   ]
  },
  {
   "cell_type": "code",
   "execution_count": null,
   "id": "artistic-implementation",
   "metadata": {},
   "outputs": [],
   "source": [
    "ticker[start_period:end_period]"
   ]
  },
  {
   "cell_type": "code",
   "execution_count": null,
   "id": "vocal-brave",
   "metadata": {},
   "outputs": [],
   "source": [
    "ticker['daily_returns'] = ticker[start_period:end_period]['AdjClose'].pct_change()"
   ]
  },
  {
   "cell_type": "code",
   "execution_count": null,
   "id": "united-attendance",
   "metadata": {},
   "outputs": [],
   "source": [
    "monthly_returns = ticker[start_period:end_period]['daily_returns'].resample('M').apply(lambda x: ((x + 1).cumprod()).last(\"D\"))"
   ]
  },
  {
   "cell_type": "code",
   "execution_count": null,
   "id": "complimentary-proposition",
   "metadata": {},
   "outputs": [],
   "source": [
    "monthly_returns"
   ]
  },
  {
   "cell_type": "markdown",
   "id": "median-banking",
   "metadata": {},
   "source": [
    "## How to calculate \"momentum\" according to Quantitative Momentum\n",
    "> To calculate the cumulative return over the past 12 months, we take the net return streams from each month and turn them into gross returns by adding 1. Thus, if Apple's net returns for January are –10.77 percent, Apple's gross returns for January are 0.8923 (–0.1077 + 1). Then, we multiply all the gross return series (i.e., months) and subtract 1 to find the cumulative 12-month net return. ([Location 2467](https://readwise.io/to_kindle?action=open&asin=B01LY6P2LB&location=2467))"
   ]
  },
  {
   "cell_type": "code",
   "execution_count": null,
   "id": "vocational-scratch",
   "metadata": {},
   "outputs": [],
   "source": [
    "twelve_month_lookback_momentum = np.prod(monthly_returns) - 1\n",
    "print(twelve_month_lookback_momentum)"
   ]
  },
  {
   "cell_type": "code",
   "execution_count": null,
   "id": "agreed-export",
   "metadata": {},
   "outputs": [],
   "source": []
  }
 ],
 "metadata": {
  "kernelspec": {
   "display_name": "Python 3",
   "language": "python",
   "name": "python3"
  },
  "language_info": {
   "codemirror_mode": {
    "name": "ipython",
    "version": 3
   },
   "file_extension": ".py",
   "mimetype": "text/x-python",
   "name": "python",
   "nbconvert_exporter": "python",
   "pygments_lexer": "ipython3",
   "version": "3.8.4"
  }
 },
 "nbformat": 4,
 "nbformat_minor": 5
}
