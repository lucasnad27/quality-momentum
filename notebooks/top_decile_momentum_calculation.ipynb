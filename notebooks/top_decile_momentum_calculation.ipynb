{
 "cells": [
  {
   "cell_type": "markdown",
   "id": "hollywood-credits",
   "metadata": {},
   "source": [
    "# Calculating momentum based on 12-month lookback period\n",
    "> To calculate the cumulative return over the past 12 months, we take the net return streams from each month and turn them into gross returns by adding 1. Thus, if Apple's net returns for January are –10.77 percent, Apple's gross returns for January are 0.8923 (–0.1077 + 1). Then, we multiply all the gross return series (i.e., months) and subtract 1 to find the cumulative 12-month net return. ([Location 2467](https://readwise.io/to_kindle?action=open&asin=B01LY6P2LB&location=2467))"
   ]
  },
  {
   "cell_type": "code",
   "execution_count": 1,
   "id": "warming-cycling",
   "metadata": {},
   "outputs": [],
   "source": [
    "%load_ext dotenv\n",
    "%dotenv"
   ]
  },
  {
   "cell_type": "code",
   "execution_count": 8,
   "id": "bce4b4f9-9588-4cc3-8cca-3e04f84aecf1",
   "metadata": {},
   "outputs": [],
   "source": [
    "import arrow\n",
    "import pandas as pd\n",
    "import numpy as np\n",
    "\n",
    "import dataclasses\n",
    "import math\n",
    "import sys\n",
    "sys.path.append('../src')"
   ]
  },
  {
   "cell_type": "code",
   "execution_count": 9,
   "id": "5fb28060-9dfd-4513-b9e1-3b80633c9d0b",
   "metadata": {},
   "outputs": [],
   "source": [
    "import quality_momentum as qm"
   ]
  },
  {
   "cell_type": "code",
   "execution_count": 10,
   "id": "478dfa50-083d-40c3-8b13-5ce8e9a1e63d",
   "metadata": {},
   "outputs": [
    {
     "data": {
      "text/plain": [
       "<module 'quality_momentum' from '/quality-momentum/notebooks/../src/quality_momentum/__init__.py'>"
      ]
     },
     "execution_count": 10,
     "metadata": {},
     "output_type": "execute_result"
    }
   ],
   "source": [
    "import importlib; importlib.reload(qm)"
   ]
  },
  {
   "cell_type": "code",
   "execution_count": 14,
   "id": "pretty-defendant",
   "metadata": {},
   "outputs": [],
   "source": [
    "now = arrow.get('2017-12-03')\n",
    "equities = qm.calculate_momentum.get_universe_of_equities(now)\n",
    "momentum_measures = [qm.calculate_momentum.get_monthly_momentum(e, now) for e in equities]\n",
    "df = pd.DataFrame.from_records([dataclasses.asdict(x) for x in momentum_measures], index='ticker')\n",
    "df['quantile_rank'] = pd.qcut(df['momentum'], 10, labels=False)"
   ]
  },
  {
   "cell_type": "code",
   "execution_count": 15,
   "id": "sunrise-courage",
   "metadata": {},
   "outputs": [],
   "source": [
    "top_decile_momentum_equities = df[df['quantile_rank'] == 9]\n",
    "top_quality_momentum = pd.qcut(top_decile_momentum_equities['fip'], 2, labels=['high_quality', 'low_quality'])\n",
    "top_decile_momentum_equities = top_decile_momentum_equities.assign(quality_momentum=top_quality_momentum.values)\n",
    "# equities_to_buy = top_decile_momentum_equities[top_decile_momentum_equities['quality_momentum'] == 1]\n",
    "equities_to_buy = top_decile_momentum_equities[top_decile_momentum_equities['quality_momentum'] == 'high_quality']"
   ]
  },
  {
   "cell_type": "code",
   "execution_count": 16,
   "id": "excellent-window",
   "metadata": {},
   "outputs": [
    {
     "name": "stdout",
     "output_type": "stream",
     "text": [
      "        momentum       fip  quantile_rank quality_momentum\n",
      "ticker                                                    \n",
      "BA      0.734723 -0.185345              9     high_quality\n"
     ]
    }
   ],
   "source": [
    "print(equities_to_buy)"
   ]
  },
  {
   "cell_type": "code",
   "execution_count": 18,
   "id": "93c5c4af-c159-48a7-a7d1-ba552d941168",
   "metadata": {},
   "outputs": [],
   "source": [
    "now = arrow.get('2017-12-03')\n",
    "tickers = qm.calculate_momentum.get_quality_momentum_stocks(now, 2)"
   ]
  },
  {
   "cell_type": "code",
   "execution_count": 19,
   "id": "528f23b1-71f6-479c-93d7-b2b724638275",
   "metadata": {},
   "outputs": [],
   "source": [
    "tickers = equities_to_buy\n",
    "available_cash = 100000"
   ]
  },
  {
   "cell_type": "code",
   "execution_count": 20,
   "id": "9bc99f65-d5c4-4f48-8bca-d9da32b36994",
   "metadata": {},
   "outputs": [],
   "source": [
    "data = {x: available_cash / len(tickers) for x in tickers}\n",
    "df = pd.DataFrame.from_dict(data, orient=\"index\")"
   ]
  },
  {
   "cell_type": "code",
   "execution_count": 21,
   "id": "9d742c8d-a037-42fa-bd70-f06c3d139561",
   "metadata": {},
   "outputs": [
    {
     "data": {
      "text/plain": [
       "Index(['momentum', 'fip', 'quantile_rank', 'quality_momentum'], dtype='object')"
      ]
     },
     "execution_count": 21,
     "metadata": {},
     "output_type": "execute_result"
    }
   ],
   "source": [
    "df.index"
   ]
  },
  {
   "cell_type": "code",
   "execution_count": 22,
   "id": "aa860a63-ec99-40b4-96c0-ab8ef43f085e",
   "metadata": {},
   "outputs": [
    {
     "data": {
      "text/html": [
       "<div>\n",
       "<style scoped>\n",
       "    .dataframe tbody tr th:only-of-type {\n",
       "        vertical-align: middle;\n",
       "    }\n",
       "\n",
       "    .dataframe tbody tr th {\n",
       "        vertical-align: top;\n",
       "    }\n",
       "\n",
       "    .dataframe thead th {\n",
       "        text-align: right;\n",
       "    }\n",
       "</style>\n",
       "<table border=\"1\" class=\"dataframe\">\n",
       "  <thead>\n",
       "    <tr style=\"text-align: right;\">\n",
       "      <th></th>\n",
       "      <th>0</th>\n",
       "    </tr>\n",
       "  </thead>\n",
       "  <tbody>\n",
       "    <tr>\n",
       "      <th>momentum</th>\n",
       "      <td>100000.0</td>\n",
       "    </tr>\n",
       "    <tr>\n",
       "      <th>fip</th>\n",
       "      <td>100000.0</td>\n",
       "    </tr>\n",
       "    <tr>\n",
       "      <th>quantile_rank</th>\n",
       "      <td>100000.0</td>\n",
       "    </tr>\n",
       "    <tr>\n",
       "      <th>quality_momentum</th>\n",
       "      <td>100000.0</td>\n",
       "    </tr>\n",
       "  </tbody>\n",
       "</table>\n",
       "</div>"
      ],
      "text/plain": [
       "                         0\n",
       "momentum          100000.0\n",
       "fip               100000.0\n",
       "quantile_rank     100000.0\n",
       "quality_momentum  100000.0"
      ]
     },
     "execution_count": 22,
     "metadata": {},
     "output_type": "execute_result"
    }
   ],
   "source": [
    "df.head(10)"
   ]
  },
  {
   "cell_type": "code",
   "execution_count": 23,
   "id": "b66bf36a-9a0e-4f58-82c0-c2690cee9d1a",
   "metadata": {},
   "outputs": [],
   "source": [
    "portfolio = qm.portfolio.purchase_new_shares(arrow.get('2017-12-03'), 100000, 4, qm.portfolio.WeightType.equal_weighted)"
   ]
  },
  {
   "cell_type": "code",
   "execution_count": 24,
   "id": "a3c090a8-368b-4f05-bc10-53d73665ed85",
   "metadata": {},
   "outputs": [
    {
     "name": "stdout",
     "output_type": "stream",
     "text": [
      "      position_size\n",
      "BA            25000\n",
      "FB            25000\n",
      "AAPL          25000\n",
      "MCD           25000\n"
     ]
    }
   ],
   "source": [
    "print(portfolio.head())"
   ]
  },
  {
   "cell_type": "code",
   "execution_count": 25,
   "id": "2227e41f-2477-4433-aa87-ddd55616572a",
   "metadata": {},
   "outputs": [],
   "source": [
    "now = arrow.get('2017-12-03')\n",
    "import pandas_datareader as pdr\n",
    "\n",
    "equities = {}\n",
    "for equity in portfolio.index.tolist():\n",
    "    # example from https://nbviewer.ipython.org/github/twiecki/financial-analysis-python-tutorial/blob/master/1.%20Pandas%20Basics.ipynb\n",
    "    adj_close_series = pdr.quandl.QuandlReader(equity, now.shift(days=-2).format('YYYY-MM-DD'), now.format('YYYY-MM-DD')).read()['AdjClose']\n",
    "    # grab first adjusted close value available\n",
    "    equities[equity] = {\"adj_close\": adj_close_series[0]}\n",
    "df = pd.DataFrame.from_dict(data=equities, orient='index')"
   ]
  },
  {
   "cell_type": "code",
   "execution_count": 26,
   "id": "06444faf-4ae0-43ee-8199-1aee94952fde",
   "metadata": {},
   "outputs": [
    {
     "data": {
      "text/html": [
       "<div>\n",
       "<style scoped>\n",
       "    .dataframe tbody tr th:only-of-type {\n",
       "        vertical-align: middle;\n",
       "    }\n",
       "\n",
       "    .dataframe tbody tr th {\n",
       "        vertical-align: top;\n",
       "    }\n",
       "\n",
       "    .dataframe thead th {\n",
       "        text-align: right;\n",
       "    }\n",
       "</style>\n",
       "<table border=\"1\" class=\"dataframe\">\n",
       "  <thead>\n",
       "    <tr style=\"text-align: right;\">\n",
       "      <th></th>\n",
       "      <th>adj_close</th>\n",
       "    </tr>\n",
       "  </thead>\n",
       "  <tbody>\n",
       "    <tr>\n",
       "      <th>AAPL</th>\n",
       "      <td>171.05</td>\n",
       "    </tr>\n",
       "    <tr>\n",
       "      <th>BA</th>\n",
       "      <td>271.38</td>\n",
       "    </tr>\n",
       "    <tr>\n",
       "      <th>FB</th>\n",
       "      <td>175.10</td>\n",
       "    </tr>\n",
       "    <tr>\n",
       "      <th>MCD</th>\n",
       "      <td>172.87</td>\n",
       "    </tr>\n",
       "  </tbody>\n",
       "</table>\n",
       "</div>"
      ],
      "text/plain": [
       "      adj_close\n",
       "AAPL     171.05\n",
       "BA       271.38\n",
       "FB       175.10\n",
       "MCD      172.87"
      ]
     },
     "execution_count": 26,
     "metadata": {},
     "output_type": "execute_result"
    }
   ],
   "source": [
    "df"
   ]
  },
  {
   "cell_type": "code",
   "execution_count": 27,
   "id": "5c32bab0-5bd2-4bb7-a920-cad48d7925d8",
   "metadata": {},
   "outputs": [],
   "source": [
    "portfolio = portfolio.join(df)"
   ]
  },
  {
   "cell_type": "code",
   "execution_count": 30,
   "id": "cd20d998-8ce8-44aa-a661-a332064761f4",
   "metadata": {},
   "outputs": [
    {
     "data": {
      "text/html": [
       "<div>\n",
       "<style scoped>\n",
       "    .dataframe tbody tr th:only-of-type {\n",
       "        vertical-align: middle;\n",
       "    }\n",
       "\n",
       "    .dataframe tbody tr th {\n",
       "        vertical-align: top;\n",
       "    }\n",
       "\n",
       "    .dataframe thead th {\n",
       "        text-align: right;\n",
       "    }\n",
       "</style>\n",
       "<table border=\"1\" class=\"dataframe\">\n",
       "  <thead>\n",
       "    <tr style=\"text-align: right;\">\n",
       "      <th></th>\n",
       "      <th>position_size</th>\n",
       "      <th>adj_close</th>\n",
       "    </tr>\n",
       "  </thead>\n",
       "  <tbody>\n",
       "    <tr>\n",
       "      <th>BA</th>\n",
       "      <td>25000</td>\n",
       "      <td>271.38</td>\n",
       "    </tr>\n",
       "    <tr>\n",
       "      <th>FB</th>\n",
       "      <td>25000</td>\n",
       "      <td>175.10</td>\n",
       "    </tr>\n",
       "    <tr>\n",
       "      <th>AAPL</th>\n",
       "      <td>25000</td>\n",
       "      <td>171.05</td>\n",
       "    </tr>\n",
       "    <tr>\n",
       "      <th>MCD</th>\n",
       "      <td>25000</td>\n",
       "      <td>172.87</td>\n",
       "    </tr>\n",
       "  </tbody>\n",
       "</table>\n",
       "</div>"
      ],
      "text/plain": [
       "      position_size  adj_close\n",
       "BA            25000     271.38\n",
       "FB            25000     175.10\n",
       "AAPL          25000     171.05\n",
       "MCD           25000     172.87"
      ]
     },
     "execution_count": 30,
     "metadata": {},
     "output_type": "execute_result"
    }
   ],
   "source": [
    "portfolio"
   ]
  },
  {
   "cell_type": "code",
   "execution_count": 31,
   "id": "0795f70e-9382-4ec4-a10b-f730c3449c76",
   "metadata": {},
   "outputs": [],
   "source": [
    "portfolio['num_shares_to_purchase'] = (portfolio['position_size'] / portfolio['adj_close']).apply(np.floor)"
   ]
  },
  {
   "cell_type": "code",
   "execution_count": 32,
   "id": "29ba5c5b-d5f0-46fc-ba59-4d12898f0b65",
   "metadata": {},
   "outputs": [
    {
     "data": {
      "text/html": [
       "<div>\n",
       "<style scoped>\n",
       "    .dataframe tbody tr th:only-of-type {\n",
       "        vertical-align: middle;\n",
       "    }\n",
       "\n",
       "    .dataframe tbody tr th {\n",
       "        vertical-align: top;\n",
       "    }\n",
       "\n",
       "    .dataframe thead th {\n",
       "        text-align: right;\n",
       "    }\n",
       "</style>\n",
       "<table border=\"1\" class=\"dataframe\">\n",
       "  <thead>\n",
       "    <tr style=\"text-align: right;\">\n",
       "      <th></th>\n",
       "      <th>position_size</th>\n",
       "      <th>adj_close</th>\n",
       "      <th>num_shares_to_purchase</th>\n",
       "    </tr>\n",
       "  </thead>\n",
       "  <tbody>\n",
       "    <tr>\n",
       "      <th>BA</th>\n",
       "      <td>25000</td>\n",
       "      <td>271.38</td>\n",
       "      <td>92.0</td>\n",
       "    </tr>\n",
       "    <tr>\n",
       "      <th>FB</th>\n",
       "      <td>25000</td>\n",
       "      <td>175.10</td>\n",
       "      <td>142.0</td>\n",
       "    </tr>\n",
       "    <tr>\n",
       "      <th>AAPL</th>\n",
       "      <td>25000</td>\n",
       "      <td>171.05</td>\n",
       "      <td>146.0</td>\n",
       "    </tr>\n",
       "    <tr>\n",
       "      <th>MCD</th>\n",
       "      <td>25000</td>\n",
       "      <td>172.87</td>\n",
       "      <td>144.0</td>\n",
       "    </tr>\n",
       "  </tbody>\n",
       "</table>\n",
       "</div>"
      ],
      "text/plain": [
       "      position_size  adj_close  num_shares_to_purchase\n",
       "BA            25000     271.38                    92.0\n",
       "FB            25000     175.10                   142.0\n",
       "AAPL          25000     171.05                   146.0\n",
       "MCD           25000     172.87                   144.0"
      ]
     },
     "execution_count": 32,
     "metadata": {},
     "output_type": "execute_result"
    }
   ],
   "source": [
    "portfolio"
   ]
  },
  {
   "cell_type": "code",
   "execution_count": null,
   "id": "578ccd14-322d-42e6-b87b-c19facfc83f6",
   "metadata": {},
   "outputs": [],
   "source": []
  }
 ],
 "metadata": {
  "kernelspec": {
   "display_name": "Python 3",
   "language": "python",
   "name": "python3"
  },
  "language_info": {
   "codemirror_mode": {
    "name": "ipython",
    "version": 3
   },
   "file_extension": ".py",
   "mimetype": "text/x-python",
   "name": "python",
   "nbconvert_exporter": "python",
   "pygments_lexer": "ipython3",
   "version": "3.8.10"
  }
 },
 "nbformat": 4,
 "nbformat_minor": 5
}
