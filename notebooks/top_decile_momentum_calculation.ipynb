{
 "cells": [
  {
   "cell_type": "markdown",
   "id": "hollywood-credits",
   "metadata": {},
   "source": [
    "# Calculating momentum based on 12-month lookback period\n",
    "> To calculate the cumulative return over the past 12 months, we take the net return streams from each month and turn them into gross returns by adding 1. Thus, if Apple's net returns for January are –10.77 percent, Apple's gross returns for January are 0.8923 (–0.1077 + 1). Then, we multiply all the gross return series (i.e., months) and subtract 1 to find the cumulative 12-month net return. ([Location 2467](https://readwise.io/to_kindle?action=open&asin=B01LY6P2LB&location=2467))"
   ]
  },
  {
   "cell_type": "code",
   "execution_count": null,
   "id": "warming-cycling",
   "metadata": {},
   "outputs": [],
   "source": [
    "%load_ext dotenv\n",
    "%dotenv"
   ]
  },
  {
   "cell_type": "code",
   "execution_count": null,
   "id": "bce4b4f9-9588-4cc3-8cca-3e04f84aecf1",
   "metadata": {},
   "outputs": [],
   "source": [
    "import arrow\n",
    "import pandas as pd\n",
    "import numpy as np\n",
    "\n",
    "import dataclasses\n",
    "import math\n",
    "import sys\n",
    "sys.path.append('../src')"
   ]
  },
  {
   "cell_type": "code",
   "execution_count": null,
   "id": "5fb28060-9dfd-4513-b9e1-3b80633c9d0b",
   "metadata": {},
   "outputs": [],
   "source": [
    "import quality_momentum as qm"
   ]
  },
  {
   "cell_type": "code",
   "execution_count": null,
   "id": "478dfa50-083d-40c3-8b13-5ce8e9a1e63d",
   "metadata": {},
   "outputs": [],
   "source": [
    "import importlib; importlib.reload(qm)"
   ]
  },
  {
   "cell_type": "code",
   "execution_count": null,
   "id": "aed41053-5302-44f5-bc5a-5f46fe420e69",
   "metadata": {},
   "outputs": [],
   "source": [
    "metric = qm.calculate_momentum.get_monthly_momentum('BA', arrow.get('2017-12-03'))"
   ]
  },
  {
   "cell_type": "code",
   "execution_count": null,
   "id": "be13756b-1036-4893-a0dd-4e7eae21a443",
   "metadata": {},
   "outputs": [],
   "source": [
    "metric"
   ]
  },
  {
   "cell_type": "code",
   "execution_count": null,
   "id": "9deb2e03-1a36-4fa0-8611-36e374f8379e",
   "metadata": {},
   "outputs": [],
   "source": [
    "df.to_csv('./ticker_quandl_data.csv')"
   ]
  },
  {
   "cell_type": "code",
   "execution_count": null,
   "id": "cc3ee842-67c8-466e-b0ea-d81248a1d7ca",
   "metadata": {},
   "outputs": [],
   "source": [
    "monthly_returns = df[\"daily_returns\"].resample(\"M\").apply(lambda x: ((x + 1).cumprod()).last(\"D\"))\n",
    "cumulative_return = np.prod(monthly_returns) - 1"
   ]
  },
  {
   "cell_type": "code",
   "execution_count": null,
   "id": "432be27e-b4d3-40b0-bf46-fa5a6ede173e",
   "metadata": {},
   "outputs": [],
   "source": [
    "print(cumulative_return)"
   ]
  },
  {
   "cell_type": "code",
   "execution_count": null,
   "id": "f187a9b7-7816-4440-a3de-0126fcfa5a1f",
   "metadata": {},
   "outputs": [],
   "source": [
    "qm.calculate_momentum.calculate_fips_number(df, -.456)"
   ]
  },
  {
   "cell_type": "code",
   "execution_count": null,
   "id": "pretty-defendant",
   "metadata": {},
   "outputs": [],
   "source": [
    "now = arrow.get('2017-12-03')\n",
    "equities = qm.calculate_momentum.get_universe_of_equities(now)\n",
    "momentum_measures = [qm.calculate_momentum.get_monthly_momentum(e, now) for e in equities]\n",
    "df = pd.DataFrame.from_records([dataclasses.asdict(x) for x in momentum_measures], index='ticker')\n",
    "df['quantile_rank'] = pd.qcut(df['momentum'], 10, labels=False)"
   ]
  },
  {
   "cell_type": "code",
   "execution_count": null,
   "id": "sunrise-courage",
   "metadata": {},
   "outputs": [],
   "source": [
    "top_decile_momentum_equities = df[df['quantile_rank'] == 9]\n",
    "top_quality_momentum = pd.qcut(top_decile_momentum_equities['fip'], 2, labels=['high_quality', 'low_quality'])\n",
    "top_decile_momentum_equities = top_decile_momentum_equities.assign(quality_momentum=top_quality_momentum.values)\n",
    "# equities_to_buy = top_decile_momentum_equities[top_decile_momentum_equities['quality_momentum'] == 1]\n",
    "equities_to_buy = top_decile_momentum_equities[top_decile_momentum_equities['quality_momentum'] == 'high_quality']"
   ]
  },
  {
   "cell_type": "code",
   "execution_count": null,
   "id": "excellent-window",
   "metadata": {},
   "outputs": [],
   "source": [
    "print(equities_to_buy)"
   ]
  },
  {
   "cell_type": "code",
   "execution_count": null,
   "id": "93c5c4af-c159-48a7-a7d1-ba552d941168",
   "metadata": {},
   "outputs": [],
   "source": [
    "now = arrow.get('2017-12-03')\n",
    "tickers = qm.calculate_momentum.get_quality_momentum_stocks(now, 2)"
   ]
  },
  {
   "cell_type": "code",
   "execution_count": null,
   "id": "528f23b1-71f6-479c-93d7-b2b724638275",
   "metadata": {},
   "outputs": [],
   "source": [
    "tickers = equities_to_buy\n",
    "available_cash = 100000"
   ]
  },
  {
   "cell_type": "code",
   "execution_count": null,
   "id": "9bc99f65-d5c4-4f48-8bca-d9da32b36994",
   "metadata": {},
   "outputs": [],
   "source": [
    "data = {x: available_cash / len(tickers) for x in tickers}\n",
    "df = pd.DataFrame.from_dict(data, orient=\"index\")"
   ]
  },
  {
   "cell_type": "code",
   "execution_count": null,
   "id": "9d742c8d-a037-42fa-bd70-f06c3d139561",
   "metadata": {},
   "outputs": [],
   "source": [
    "df.index"
   ]
  },
  {
   "cell_type": "code",
   "execution_count": null,
   "id": "aa860a63-ec99-40b4-96c0-ab8ef43f085e",
   "metadata": {},
   "outputs": [],
   "source": [
    "df.head(10)"
   ]
  },
  {
   "cell_type": "code",
   "execution_count": null,
   "id": "b66bf36a-9a0e-4f58-82c0-c2690cee9d1a",
   "metadata": {},
   "outputs": [],
   "source": [
    "portfolio = qm.portfolio.purchase_new_shares(arrow.get('2017-12-03'), 100000, 4, qm.portfolio.WeightType.equal_weighted)"
   ]
  },
  {
   "cell_type": "code",
   "execution_count": null,
   "id": "a3c090a8-368b-4f05-bc10-53d73665ed85",
   "metadata": {},
   "outputs": [],
   "source": [
    "print(portfolio.head())"
   ]
  },
  {
   "cell_type": "code",
   "execution_count": null,
   "id": "2227e41f-2477-4433-aa87-ddd55616572a",
   "metadata": {},
   "outputs": [],
   "source": [
    "now = arrow.get('2017-12-03')\n",
    "import pandas_datareader as pdr\n",
    "\n",
    "equities = {}\n",
    "for equity in portfolio.index.tolist():\n",
    "    # example from https://nbviewer.ipython.org/github/twiecki/financial-analysis-python-tutorial/blob/master/1.%20Pandas%20Basics.ipynb\n",
    "    adj_close_series = pdr.quandl.QuandlReader(equity, now.shift(days=-2).format('YYYY-MM-DD'), now.format('YYYY-MM-DD')).read()['AdjClose']\n",
    "    # grab first adjusted close value available\n",
    "    equities[equity] = {\"adj_close\": adj_close_series[0]}\n",
    "df = pd.DataFrame.from_dict(data=equities, orient='index')"
   ]
  },
  {
   "cell_type": "code",
   "execution_count": null,
   "id": "06444faf-4ae0-43ee-8199-1aee94952fde",
   "metadata": {},
   "outputs": [],
   "source": [
    "df"
   ]
  },
  {
   "cell_type": "code",
   "execution_count": null,
   "id": "5c32bab0-5bd2-4bb7-a920-cad48d7925d8",
   "metadata": {},
   "outputs": [],
   "source": [
    "portfolio = portfolio.join(df)"
   ]
  },
  {
   "cell_type": "code",
   "execution_count": null,
   "id": "cd20d998-8ce8-44aa-a661-a332064761f4",
   "metadata": {},
   "outputs": [],
   "source": [
    "portfolio"
   ]
  },
  {
   "cell_type": "code",
   "execution_count": null,
   "id": "0795f70e-9382-4ec4-a10b-f730c3449c76",
   "metadata": {},
   "outputs": [],
   "source": [
    "portfolio['num_shares_to_purchase'] = (portfolio['position_size'] / portfolio['adj_close']).apply(np.floor)"
   ]
  },
  {
   "cell_type": "code",
   "execution_count": null,
   "id": "29ba5c5b-d5f0-46fc-ba59-4d12898f0b65",
   "metadata": {},
   "outputs": [],
   "source": [
    "portfolio"
   ]
  },
  {
   "cell_type": "code",
   "execution_count": null,
   "id": "578ccd14-322d-42e6-b87b-c19facfc83f6",
   "metadata": {},
   "outputs": [],
   "source": []
  }
 ],
 "metadata": {
  "kernelspec": {
   "display_name": "Python 3",
   "language": "python",
   "name": "python3"
  },
  "language_info": {
   "codemirror_mode": {
    "name": "ipython",
    "version": 3
   },
   "file_extension": ".py",
   "mimetype": "text/x-python",
   "name": "python",
   "nbconvert_exporter": "python",
   "pygments_lexer": "ipython3",
   "version": "3.8.10"
  }
 },
 "nbformat": 4,
 "nbformat_minor": 5
}
