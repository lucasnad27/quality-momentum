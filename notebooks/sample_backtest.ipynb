{
 "cells": [
  {
   "cell_type": "markdown",
   "id": "cef07662-1270-4c6f-bea4-887f749910da",
   "metadata": {},
   "source": [
    "# Portfolio example for 2018 using TDAmeritrade data\n",
    "\n",
    "This is to see what our tearsheet looks like after implementing liquidation of positions. Fakes out the \"universe\" data as I don't have my backend data store hooked in."
   ]
  },
  {
   "cell_type": "code",
   "execution_count": null,
   "id": "90f49afa-bae7-44b5-b5d0-c1481da64d36",
   "metadata": {},
   "outputs": [],
   "source": [
    "import arrow\n",
    "import pandas as pd\n",
    "import pyfolio as pf\n",
    "import numpy as np\n",
    "\n",
    "import gzip\n",
    "import math\n",
    "import sys\n",
    "\n",
    "sys.path.append('../src')\n",
    "\n",
    "import quality_momentum as qm\n",
    "\n",
    "import warnings\n",
    "from matplotlib.cbook import MatplotlibDeprecationWarning\n",
    "# these are mainly for 3rd party lib, pyfolio, f*ck you Robinhood\n",
    "warnings.filterwarnings(\"ignore\", category=MatplotlibDeprecationWarning)\n",
    "warnings.filterwarnings(\"ignore\", category=UserWarning)\n",
    "warnings.filterwarnings(\"ignore\", category=RuntimeWarning)\n",
    "warnings.filterwarnings(\"ignore\", category=FutureWarning)"
   ]
  },
  {
   "cell_type": "code",
   "execution_count": null,
   "id": "a079c827-fd7c-489c-ba22-124d61f845d2",
   "metadata": {},
   "outputs": [],
   "source": [
    "portfolio = qm.portfolio.Portfolio(\n",
    "    start_date=arrow.get('2018-01-01'), \n",
    "    end_date=arrow.get('2018-12-01'), \n",
    "    capital_allocation=100000.0,\n",
    "    weighting=qm.portfolio.WeightType.equal_weighted)\n",
    "portfolio.run()"
   ]
  },
  {
   "cell_type": "code",
   "execution_count": null,
   "id": "286d4e1d-a300-4de1-9776-f7161555b9f8",
   "metadata": {},
   "outputs": [],
   "source": [
    "pf.create_full_tear_sheet(portfolio.returns, positions=portfolio.positions, transactions=portfolio.transactions)"
   ]
  },
  {
   "cell_type": "code",
   "execution_count": null,
   "id": "092da4e4-d661-4592-90e1-f710315e6b73",
   "metadata": {},
   "outputs": [],
   "source": []
  }
 ],
 "metadata": {
  "kernelspec": {
   "display_name": "Python 3 (ipykernel)",
   "language": "python",
   "name": "python3"
  },
  "language_info": {
   "codemirror_mode": {
    "name": "ipython",
    "version": 3
   },
   "file_extension": ".py",
   "mimetype": "text/x-python",
   "name": "python",
   "nbconvert_exporter": "python",
   "pygments_lexer": "ipython3",
   "version": "3.8.10"
  }
 },
 "nbformat": 4,
 "nbformat_minor": 5
}
