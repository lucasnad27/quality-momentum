{
 "cells": [
  {
   "cell_type": "code",
   "execution_count": null,
   "id": "5952979b-caad-4db6-b8f1-2ae7be3b0706",
   "metadata": {},
   "outputs": [],
   "source": [
    "import arrow\n",
    "import pandas as pd\n",
    "import pyfolio as pf\n",
    "import numpy as np\n",
    "\n",
    "import gzip\n",
    "import math\n",
    "import sys\n",
    "\n",
    "sys.path.append('../../src')\n",
    "\n",
    "import quality_momentum as qm\n",
    "\n",
    "import warnings\n",
    "from matplotlib.cbook import MatplotlibDeprecationWarning\n",
    "# these are mainly for 3rd party lib, pyfolio, f*ck you Robinhood\n",
    "warnings.filterwarnings(\"ignore\", category=MatplotlibDeprecationWarning)\n",
    "warnings.filterwarnings(\"ignore\", category=UserWarning)\n",
    "warnings.filterwarnings(\"ignore\", category=RuntimeWarning)\n",
    "warnings.filterwarnings(\"ignore\", category=FutureWarning)"
   ]
  },
  {
   "cell_type": "code",
   "execution_count": null,
   "id": "dcd556b8-bf2a-4ec2-ac3e-3534f3e9e3ad",
   "metadata": {},
   "outputs": [],
   "source": [
    "start_date = arrow.get('1996-01-01')\n",
    "end_date = arrow.get('1999-01-01')"
   ]
  },
  {
   "cell_type": "code",
   "execution_count": null,
   "id": "0185983c-0ae0-4347-bc10-26d147ee595f",
   "metadata": {},
   "outputs": [],
   "source": [
    "portfolio = qm.portfolio.Portfolio(\n",
    "    start_date=start_date, \n",
    "    end_date=end_date, \n",
    "    capital_allocation=100000.0,\n",
    "    weighting=qm.portfolio.WeightType.equal_weighted,\n",
    "    s3_bucket='prod-stock-universe')\n",
    "portfolio.run()"
   ]
  },
  {
   "cell_type": "code",
   "execution_count": null,
   "id": "07e96a90-9260-4eef-b4b7-7ffcf8b6cba8",
   "metadata": {},
   "outputs": [],
   "source": [
    "tear_sheet = pf.create_full_tear_sheet(portfolio.returns, positions=portfolio.positions, transactions=portfolio.transactions)"
   ]
  },
  {
   "cell_type": "code",
   "execution_count": null,
   "id": "42d96e7c-1ba4-46dc-909b-a6c0b085a901",
   "metadata": {},
   "outputs": [],
   "source": []
  }
 ],
 "metadata": {
  "kernelspec": {
   "display_name": "Python 3 (ipykernel)",
   "language": "python",
   "name": "python3"
  },
  "language_info": {
   "codemirror_mode": {
    "name": "ipython",
    "version": 3
   },
   "file_extension": ".py",
   "mimetype": "text/x-python",
   "name": "python",
   "nbconvert_exporter": "python",
   "pygments_lexer": "ipython3",
   "version": "3.9.6"
  }
 },
 "nbformat": 4,
 "nbformat_minor": 5
}
