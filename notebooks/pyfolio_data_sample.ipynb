{
 "cells": [
  {
   "cell_type": "markdown",
   "id": "42b5dc1a",
   "metadata": {},
   "source": [
    "# Sample of dataframes required for pyfolio integration\n",
    "\n",
    "> DISCLAIMER: Yes, zipline is a thing, but I don't think it's conducive to the type of backtesting I'm doing. I can also only get it working with Docker as mac osx deploy is broken right now due to some tricky dependency issues. I might come back to zipline, but for now, going to try and replicate the results that zipline produces and tie it into pyfolio"
   ]
  },
  {
   "cell_type": "code",
   "execution_count": null,
   "id": "52927c00",
   "metadata": {},
   "outputs": [],
   "source": [
    "import arrow\n",
    "import pandas as pd\n",
    "import numpy as np\n",
    "\n",
    "import gzip\n",
    "import math\n",
    "import sys\n",
    "\n",
    "sys.path.append('../src')\n",
    "\n",
    "import quality_momentum as qm"
   ]
  },
  {
   "cell_type": "code",
   "execution_count": null,
   "id": "d4df7710",
   "metadata": {},
   "outputs": [],
   "source": [
    "transactions = pd.read_csv(gzip.open('./pyfolio_data/test_txn.csv.gz'), index_col=0, parse_dates=True)\n",
    "positions = pd.read_csv(gzip.open('./pyfolio_data/test_pos.csv.gz'), index_col=0, parse_dates=True)\n",
    "returns = pd.read_csv(gzip.open('./pyfolio_data/test_returns.csv.gz'), index_col=0, parse_dates=True, header=None)[1]"
   ]
  },
  {
   "cell_type": "markdown",
   "id": "6a1ce0d7",
   "metadata": {},
   "source": [
    "## Transactions dataframe\n",
    "\n",
    "A record is inserted for every transaction completed."
   ]
  },
  {
   "cell_type": "code",
   "execution_count": null,
   "id": "dcbf95a8",
   "metadata": {},
   "outputs": [],
   "source": [
    "transactions.info()"
   ]
  },
  {
   "cell_type": "code",
   "execution_count": null,
   "id": "b94d73ae",
   "metadata": {},
   "outputs": [],
   "source": [
    "def foo():\n",
    "    return 23.34\n",
    "# sum up the amount grouped by symbol in the transactions dataframe\n",
    "stock_positions = transactions.groupby('symbol').amount.sum()\n",
    "# filter out the rows with amount = 0\n",
    "df = stock_positions[stock_positions >= 0].to_frame()\n",
    "df[\"amount\"] = df[\"amount\"] * -1\n",
    "df[\"price\"] = df.apply(lambda x: foo(), axis=1)\n",
    "df[\"txn_dollars\"] = df[\"price\"] * df[\"amount\"] * -1\n",
    "df[\"date\"] = pd.to_datetime(arrow.get(trading_day.date()).datetime)\n",
    "df.set_index(\"date\", inplace=True)\n"
   ]
  },
  {
   "cell_type": "code",
   "execution_count": null,
   "id": "3dfba4b9",
   "metadata": {},
   "outputs": [],
   "source": [
    "df"
   ]
  },
  {
   "cell_type": "code",
   "execution_count": null,
   "id": "976ed8e8",
   "metadata": {},
   "outputs": [],
   "source": [
    "transactions.head(20)\n",
    "# transactions[transactions['symbol'] == 'AMD']"
   ]
  },
  {
   "cell_type": "markdown",
   "id": "f6f5ee6d",
   "metadata": {},
   "source": [
    "## Positions dataframe\n",
    "\n",
    "Any position we have is a column in this datetime-based index. The total amount of each equity is tracked through time."
   ]
  },
  {
   "cell_type": "code",
   "execution_count": null,
   "id": "bbc59ac7",
   "metadata": {},
   "outputs": [],
   "source": [
    "positions.info()"
   ]
  },
  {
   "cell_type": "code",
   "execution_count": null,
   "id": "bc59819e",
   "metadata": {},
   "outputs": [],
   "source": [
    "trading_day = arrow.get('2009-12-30')\n",
    "latest_positions = positions.index[-1]\n",
    "latest_row = positions.loc[[latest_positions]]\n",
    "# stow away the available cash we have and remove it from positions\n",
    "starting_cash = latest_row['cash'][0]\n",
    "del latest_row['cash']\n",
    "# filter out columns with a value of 0\n",
    "\n",
    "\n",
    "# transactions should look something like this\n",
    "# amount\tprice\t    symbol\ttxn_dollars\n",
    "# -697\t    4.937500\tCERN\t3441.437500"
   ]
  },
  {
   "cell_type": "code",
   "execution_count": null,
   "id": "9e54dd23",
   "metadata": {},
   "outputs": [],
   "source": [
    "latest_row"
   ]
  },
  {
   "cell_type": "code",
   "execution_count": null,
   "id": "d9ab8bfc",
   "metadata": {},
   "outputs": [],
   "source": [
    "returns.index"
   ]
  },
  {
   "cell_type": "code",
   "execution_count": null,
   "id": "966b1449",
   "metadata": {},
   "outputs": [],
   "source": [
    "positions.loc[['2004-01-09']].sum(axis=1)[0]"
   ]
  },
  {
   "cell_type": "code",
   "execution_count": null,
   "id": "3519d079",
   "metadata": {},
   "outputs": [],
   "source": [
    "positions.loc[['2004-01-09']]"
   ]
  },
  {
   "cell_type": "code",
   "execution_count": null,
   "id": "a0999717",
   "metadata": {},
   "outputs": [],
   "source": [
    "daily_total_position = positions.sum(axis=1)"
   ]
  },
  {
   "cell_type": "code",
   "execution_count": null,
   "id": "af1d0c18",
   "metadata": {},
   "outputs": [],
   "source": [
    "calculated_returns = daily_total_position.pct_change().fillna(0)"
   ]
  },
  {
   "cell_type": "code",
   "execution_count": null,
   "id": "8b846305",
   "metadata": {},
   "outputs": [],
   "source": [
    "print(calculated_returns.index, calculated_returns.dtype)"
   ]
  },
  {
   "cell_type": "markdown",
   "id": "2f560bf9",
   "metadata": {},
   "source": [
    "## Returns series\n",
    "\n",
    "A series that calculates daily returns over the same time period"
   ]
  },
  {
   "cell_type": "code",
   "execution_count": null,
   "id": "7c75e857",
   "metadata": {},
   "outputs": [],
   "source": [
    "print(returns.index, returns.dtype)"
   ]
  },
  {
   "cell_type": "code",
   "execution_count": null,
   "id": "2903b46a",
   "metadata": {},
   "outputs": [],
   "source": [
    "returns"
   ]
  },
  {
   "cell_type": "code",
   "execution_count": null,
   "id": "8d5fb241",
   "metadata": {},
   "outputs": [],
   "source": [
    "returns[55:65]"
   ]
  },
  {
   "cell_type": "code",
   "execution_count": null,
   "id": "40b2cee8",
   "metadata": {},
   "outputs": [],
   "source": [
    "calculated_returns[50:60]"
   ]
  },
  {
   "cell_type": "markdown",
   "id": "663e8b0f",
   "metadata": {},
   "source": [
    "## Time to generate some transactions!\n",
    "\n",
    "Concepts to figure out:\n",
    "- portfolio management\n",
    "- capital allocation\n",
    "- market-cap weighted vs equal weighted\n",
    "- how to roll through a period of time"
   ]
  },
  {
   "cell_type": "code",
   "execution_count": null,
   "id": "847e272c",
   "metadata": {},
   "outputs": [],
   "source": [
    "portfolio = qm.portfolio.Portfolio(\n",
    "    start_date=arrow.get('2018-01-01'), \n",
    "    end_date=arrow.get('2018-12-01'), \n",
    "    capital_allocation=100000.0,\n",
    "    weighting=qm.portfolio.WeightType.equal_weighted)"
   ]
  },
  {
   "cell_type": "code",
   "execution_count": null,
   "id": "579b1fc8",
   "metadata": {},
   "outputs": [],
   "source": [
    "portfolio.run()"
   ]
  },
  {
   "cell_type": "code",
   "execution_count": null,
   "id": "dfa15ece",
   "metadata": {},
   "outputs": [],
   "source": [
    "portfolio.transactions.head(20)"
   ]
  },
  {
   "cell_type": "code",
   "execution_count": null,
   "id": "aef7d9ef",
   "metadata": {},
   "outputs": [],
   "source": []
  }
 ],
 "metadata": {
  "interpreter": {
   "hash": "36a8245cf70c092655383e8d5af63acf669fa54f6137ecee2bb495d97f5e771b"
  },
  "kernelspec": {
   "display_name": "Python 3 (ipykernel)",
   "language": "python",
   "name": "python3"
  },
  "language_info": {
   "codemirror_mode": {
    "name": "ipython",
    "version": 3
   },
   "file_extension": ".py",
   "mimetype": "text/x-python",
   "name": "python",
   "nbconvert_exporter": "python",
   "pygments_lexer": "ipython3",
   "version": "3.8.10"
  }
 },
 "nbformat": 4,
 "nbformat_minor": 5
}
