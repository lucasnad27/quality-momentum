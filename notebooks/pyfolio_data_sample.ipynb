{
 "cells": [
  {
   "cell_type": "markdown",
   "id": "78b6411f-a55c-4b59-b575-e8b11e94b415",
   "metadata": {},
   "source": [
    "# Sample of dataframes required for pyfolio integration\n",
    "\n",
    "> DISCLAIMER: Yes, zipline is a thing, but I don't think it's conducive to the type of backtesting I'm doing. I can also only get it working with Docker as mac osx deploy is broken right now due to some tricky dependency issues. I might come back to zipline, but for now, going to try and replicate the results that zipline produces and tie it into pyfolio"
   ]
  },
  {
   "cell_type": "code",
   "execution_count": null,
   "id": "7e920cfd-f079-4a3e-b9c7-f5b5e67ad26f",
   "metadata": {},
   "outputs": [],
   "source": [
    "import arrow\n",
    "import pandas as pd\n",
    "import pandas_datareader as pdr\n",
    "import numpy as np\n",
    "\n",
    "import gzip\n",
    "import math\n",
    "import sys\n",
    "\n",
    "sys.path.append('../src')"
   ]
  },
  {
   "cell_type": "code",
   "execution_count": null,
   "id": "6de9078e-1e71-481c-a493-31535f3bea04",
   "metadata": {},
   "outputs": [],
   "source": [
    "import quality_momentum as qm"
   ]
  },
  {
   "cell_type": "code",
   "execution_count": null,
   "id": "a1c93be6-81c2-4629-9acf-48827966246f",
   "metadata": {},
   "outputs": [],
   "source": [
    "transactions = pd.read_csv(gzip.open('./pyfolio_data/test_txn.csv.gz'), index_col=0, parse_dates=True)\n",
    "positions = pd.read_csv(gzip.open('./pyfolio_data/test_pos.csv.gz'), index_col=0, parse_dates=True)\n",
    "returns = pd.read_csv(gzip.open('./pyfolio_data/test_returns.csv.gz'), index_col=0, parse_dates=True, header=None)[1]"
   ]
  },
  {
   "cell_type": "markdown",
   "id": "f0e7bf3b-e9b7-478a-ad94-9709bf16fbbd",
   "metadata": {},
   "source": [
    "## Transactions dataframe\n",
    "\n",
    "A record is inserted for every transaction completed."
   ]
  },
  {
   "cell_type": "code",
   "execution_count": null,
   "id": "2f85846a-e90e-4034-a8dd-763ebe8eeebc",
   "metadata": {},
   "outputs": [],
   "source": [
    "transactions.info()"
   ]
  },
  {
   "cell_type": "code",
   "execution_count": null,
   "id": "d15a15d2-5c3c-49ad-8863-90232bff4ec6",
   "metadata": {},
   "outputs": [],
   "source": [
    "transactions.head(20)\n",
    "# transactions[transactions['symbol'] == 'AMD']"
   ]
  },
  {
   "cell_type": "markdown",
   "id": "0a2f179a-3aaa-44d7-b0d7-563816c6fe74",
   "metadata": {},
   "source": [
    "## Positions dataframe\n",
    "\n",
    "Any position we have is a column in this datetime-based index. The total amount of each equity is tracked through time."
   ]
  },
  {
   "cell_type": "code",
   "execution_count": null,
   "id": "bcccff8b-b3ab-4e53-b2cf-4774b188d551",
   "metadata": {},
   "outputs": [],
   "source": [
    "positions.info()"
   ]
  },
  {
   "cell_type": "code",
   "execution_count": null,
   "id": "2993ec22-38b4-442e-ade7-b0d6204111e8",
   "metadata": {},
   "outputs": [],
   "source": [
    "positions.head()"
   ]
  },
  {
   "cell_type": "code",
   "execution_count": null,
   "id": "482717eb-b031-4546-b06c-6661fab955cd",
   "metadata": {},
   "outputs": [],
   "source": [
    "positions.loc[['2004-01-09']].sum(axis=1)[0]"
   ]
  },
  {
   "cell_type": "code",
   "execution_count": null,
   "id": "151a92da-9060-4587-8f54-5591d08318fa",
   "metadata": {},
   "outputs": [],
   "source": [
    "positions.loc[['2004-01-09']]"
   ]
  },
  {
   "cell_type": "code",
   "execution_count": null,
   "id": "a8939cb8-b016-43f8-acdd-5899565f4139",
   "metadata": {},
   "outputs": [],
   "source": [
    "daily_total_position = positions.sum(axis=1)"
   ]
  },
  {
   "cell_type": "code",
   "execution_count": null,
   "id": "2ae33c8d-09a9-4e3e-87fe-111bc33e2c84",
   "metadata": {},
   "outputs": [],
   "source": [
    "calculated_returns = daily_total_position.pct_change().fillna(0)"
   ]
  },
  {
   "cell_type": "code",
   "execution_count": null,
   "id": "ebe3a68e-e083-429e-a7c4-900e6c75e7c9",
   "metadata": {},
   "outputs": [],
   "source": [
    "print(calculated_returns.index, calculated_returns.dtype)"
   ]
  },
  {
   "cell_type": "markdown",
   "id": "4fe6defa-7d67-4f41-bbaa-e6383dab165f",
   "metadata": {},
   "source": [
    "## Returns series\n",
    "\n",
    "A series that calculates daily returns over the same time period"
   ]
  },
  {
   "cell_type": "code",
   "execution_count": null,
   "id": "43c32dac-30ae-4666-bef1-2009abafdb03",
   "metadata": {},
   "outputs": [],
   "source": [
    "print(returns.index, returns.dtype)"
   ]
  },
  {
   "cell_type": "code",
   "execution_count": null,
   "id": "c1b5aebc-f268-4886-a8a9-f114a09254c6",
   "metadata": {},
   "outputs": [],
   "source": [
    "returns[55:65]"
   ]
  },
  {
   "cell_type": "code",
   "execution_count": null,
   "id": "55d69cb0-a5df-462b-873c-d3c425014d66",
   "metadata": {},
   "outputs": [],
   "source": [
    "calculated_returns[50:60]"
   ]
  },
  {
   "cell_type": "markdown",
   "id": "141aa33f-7964-45ab-9246-5123e10c2243",
   "metadata": {},
   "source": [
    "## Time to generate some transactions!\n",
    "\n",
    "Concepts to figure out:\n",
    "- portfolio management\n",
    "- capital allocation\n",
    "- market-cap weighted vs equal weighted\n",
    "- how to roll through a period of time"
   ]
  },
  {
   "cell_type": "code",
   "execution_count": null,
   "id": "c6dd0666-b0f3-4fd9-ae97-4ef21b4d69a0",
   "metadata": {},
   "outputs": [],
   "source": [
    "portfolio = qm.portfolio.Portfolio(\n",
    "    start_date=arrow.get('2018-01-01'), \n",
    "    end_date=arrow.get('2018-12-01'), \n",
    "    capital_allocation=100000.0,\n",
    "    weighting=qm.portfolio.WeightType.equal_weighted)"
   ]
  },
  {
   "cell_type": "code",
   "execution_count": null,
   "id": "0d1664b3-a075-477a-9dff-ff3276a60456",
   "metadata": {},
   "outputs": [],
   "source": [
    "portfolio.run()"
   ]
  },
  {
   "cell_type": "code",
   "execution_count": null,
   "id": "48511ffd-2267-4a15-85a9-78d7a32ef420",
   "metadata": {},
   "outputs": [],
   "source": [
    "portfolio.transactions.head(20)"
   ]
  },
  {
   "cell_type": "code",
   "execution_count": null,
   "id": "5f48a191-e510-4e39-b572-8a09ce527f57",
   "metadata": {},
   "outputs": [],
   "source": []
  }
 ],
 "metadata": {
  "kernelspec": {
   "display_name": "Python 3",
   "language": "python",
   "name": "python3"
  },
  "language_info": {
   "codemirror_mode": {
    "name": "ipython",
    "version": 3
   },
   "file_extension": ".py",
   "mimetype": "text/x-python",
   "name": "python",
   "nbconvert_exporter": "python",
   "pygments_lexer": "ipython3",
   "version": "3.8.10"
  }
 },
 "nbformat": 4,
 "nbformat_minor": 5
}
