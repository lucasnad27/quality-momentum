{
 "cells": [
  {
   "cell_type": "markdown",
   "id": "8a64e101",
   "metadata": {},
   "source": [
    "# Building a set of dataframes for pyfolio"
   ]
  },
  {
   "cell_type": "code",
   "execution_count": null,
   "id": "09aa9c7c",
   "metadata": {},
   "outputs": [],
   "source": [
    "import importlib\n",
    "import gzip\n",
    "import math\n",
    "import sys\n",
    "\n",
    "import arrow\n",
    "import pandas as pd\n",
    "import pandas_datareader as pdr\n",
    "import numpy as np\n",
    "\n",
    "sys.path.append('../src')"
   ]
  },
  {
   "cell_type": "code",
   "execution_count": null,
   "id": "47d3bf1e",
   "metadata": {},
   "outputs": [],
   "source": [
    "import quality_momentum as qm"
   ]
  },
  {
   "cell_type": "code",
   "execution_count": null,
   "id": "98c00bbe",
   "metadata": {},
   "outputs": [],
   "source": [
    "trading_day = arrow.get('2021-06-29')\n",
    "num_holdings = 5\n",
    "available_cash = 100_000\n",
    "tickers = qm.calculate_momentum.get_quality_momentum_stocks(trading_day, num_holdings)"
   ]
  },
  {
   "cell_type": "code",
   "execution_count": null,
   "id": "3ea54eb6",
   "metadata": {},
   "outputs": [],
   "source": [
    "print(tickers)"
   ]
  },
  {
   "cell_type": "code",
   "execution_count": null,
   "id": "a558a8f1",
   "metadata": {},
   "outputs": [],
   "source": [
    "data = [(x, math.floor(available_cash / len(tickers))) for x in tickers]\n",
    "print(data)\n",
    "df = pd.DataFrame(data, columns=[\"symbol\", \"position_size\"])\n",
    "df['price'] = df.apply(lambda x: get_adjusted_close(x['symbol'], trading_day), axis=1)\n",
    "df['amount'] = (df['position_size'] / df['price']).apply(np.floor)\n",
    "df['txn_dollars'] = df['price'] * df['amount']\n",
    "df['date'] = trading_day\n",
    "df.set_index('date', inplace=True)\n",
    "print(data)\n",
    "df.head()"
   ]
  },
  {
   "cell_type": "code",
   "execution_count": null,
   "id": "8c001492",
   "metadata": {},
   "outputs": [],
   "source": [
    "transactions = qm.portfolio.purchase_new_shares(trading_day, 100000, 4, qm.portfolio.WeightType.equal_weighted)\n",
    "transactions = transactions.append(qm.portfolio.purchase_new_shares(trading_day.shift(days=+6), 110000, 4, qm.portfolio.WeightType.equal_weighted))"
   ]
  },
  {
   "cell_type": "code",
   "execution_count": null,
   "id": "16b80470",
   "metadata": {},
   "outputs": [],
   "source": [
    "transactions.head(10)"
   ]
  },
  {
   "cell_type": "markdown",
   "id": "3bdf7a7d",
   "metadata": {},
   "source": [
    "## Time to generate some transactions!\n",
    "\n",
    "Concepts to figure out:\n",
    "- portfolio management\n",
    "- capital allocation\n",
    "- market-cap weighted vs equal weighted\n",
    "- how to roll through a period of time"
   ]
  },
  {
   "cell_type": "code",
   "execution_count": null,
   "id": "418be9b0",
   "metadata": {},
   "outputs": [],
   "source": [
    "test_portfolio = qm.portfolio.Portfolio(\n",
    "    start_date=arrow.get('2021-01-01'), \n",
    "    end_date=arrow.get('2021-06-29'), \n",
    "    capital_allocation=100000.0,\n",
    "    num_holdings=3,\n",
    "    weighting=qm.portfolio.WeightType.equal_weighted)"
   ]
  },
  {
   "cell_type": "code",
   "execution_count": null,
   "id": "2c2a4bfd",
   "metadata": {},
   "outputs": [],
   "source": [
    "transactions = test_portfolio.transactions"
   ]
  },
  {
   "cell_type": "code",
   "execution_count": null,
   "id": "5940e6da",
   "metadata": {},
   "outputs": [],
   "source": [
    "positions = test_portfolio.positions"
   ]
  },
  {
   "cell_type": "code",
   "execution_count": null,
   "id": "63322c86",
   "metadata": {},
   "outputs": [],
   "source": [
    "returns = test_portfolio.returns"
   ]
  },
  {
   "cell_type": "code",
   "execution_count": null,
   "id": "035123e3",
   "metadata": {},
   "outputs": [],
   "source": [
    "transactions"
   ]
  },
  {
   "cell_type": "code",
   "execution_count": null,
   "id": "f2b4ba1d",
   "metadata": {},
   "outputs": [],
   "source": [
    "positions"
   ]
  },
  {
   "cell_type": "code",
   "execution_count": null,
   "id": "d40d8f88",
   "metadata": {},
   "outputs": [],
   "source": [
    "returns"
   ]
  },
  {
   "cell_type": "code",
   "execution_count": null,
   "id": "24f3af39",
   "metadata": {},
   "outputs": [],
   "source": [
    "new_df = new_df.pivot_table(index='date', columns='symbol', values='value')"
   ]
  },
  {
   "cell_type": "code",
   "execution_count": null,
   "id": "d250a510",
   "metadata": {},
   "outputs": [],
   "source": [
    "new_df"
   ]
  },
  {
   "cell_type": "code",
   "execution_count": null,
   "id": "99e09f3b",
   "metadata": {},
   "outputs": [],
   "source": [
    "trading_day = arrow.get('2018-01-02')\n",
    "data = [\n",
    "    {'date': trading_day, 'symbol': 'BA', 'price': 300.05, 'amount': 10, 'txn_dollars': 3000.05},\n",
    "    {'date': trading_day, 'symbol': 'FB', 'price': 185.58, 'amount': 20, 'txn_dollars': 3711.60},\n",
    "    {'date': trading_day, 'symbol': 'MCD', 'price': 152.56, 'amount': 40, 'txn_dollars': 6102.4}\n",
    "]\n",
    "new_transactions = pd.DataFrame(data)\n",
    "new_transactions.set_index('date', inplace=True)"
   ]
  },
  {
   "cell_type": "code",
   "execution_count": null,
   "id": "781b8f57",
   "metadata": {},
   "outputs": [],
   "source": [
    "existing_transactions = test_portfolio.transactions"
   ]
  },
  {
   "cell_type": "code",
   "execution_count": null,
   "id": "0d40f1d6",
   "metadata": {},
   "outputs": [],
   "source": [
    "fresh_transactions = existing_transactions.append(new_transactions)"
   ]
  },
  {
   "cell_type": "code",
   "execution_count": null,
   "id": "cfea1c90",
   "metadata": {},
   "outputs": [],
   "source": [
    "fresh_transactions.head(10)"
   ]
  },
  {
   "cell_type": "code",
   "execution_count": null,
   "id": "c82a41d3",
   "metadata": {},
   "outputs": [],
   "source": [
    "current_positions = fresh_transactions.groupby(['symbol'])['amount'].sum().to_frame()\n",
    "current_positions['date'] = trading_day"
   ]
  },
  {
   "cell_type": "code",
   "execution_count": null,
   "id": "9dcf398b",
   "metadata": {},
   "outputs": [],
   "source": [
    "current_positions"
   ]
  },
  {
   "cell_type": "code",
   "execution_count": null,
   "id": "9829258f",
   "metadata": {},
   "outputs": [],
   "source": [
    "current_positions = current_positions.reset_index().set_index('date')\n",
    "current_positions"
   ]
  },
  {
   "cell_type": "code",
   "execution_count": null,
   "id": "08fd9524",
   "metadata": {},
   "outputs": [],
   "source": [
    "current_positions['price'] = current_positions.apply(lambda x: portfolio.get_adjusted_close(x['symbol'], trading_day), axis=1)\n",
    "current_positions['value'] = current_positions['price'] * current_positions['amount']\n",
    "print(current_positions)"
   ]
  },
  {
   "cell_type": "code",
   "execution_count": null,
   "id": "9fa577fe",
   "metadata": {},
   "outputs": [],
   "source": [
    "current_positions.query('amount>150')"
   ]
  },
  {
   "cell_type": "code",
   "execution_count": null,
   "id": "64175a7a",
   "metadata": {},
   "outputs": [],
   "source": []
  }
 ],
 "metadata": {
  "interpreter": {
   "hash": "d349263c2e80cabc16331826c4fec71d5051bc6a914b4c52dd37c57a12e65c12"
  },
  "kernelspec": {
   "display_name": "Python 3 (ipykernel)",
   "language": "python",
   "name": "python3"
  },
  "language_info": {
   "codemirror_mode": {
    "name": "ipython",
    "version": 3
   },
   "file_extension": ".py",
   "mimetype": "text/x-python",
   "name": "python",
   "nbconvert_exporter": "python",
   "pygments_lexer": "ipython3",
   "version": "3.9.6"
  }
 },
 "nbformat": 4,
 "nbformat_minor": 5
}
