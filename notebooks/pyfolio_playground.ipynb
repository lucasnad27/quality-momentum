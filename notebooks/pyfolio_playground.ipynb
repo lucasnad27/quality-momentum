{
 "cells": [
  {
   "cell_type": "markdown",
   "id": "78b6411f-a55c-4b59-b575-e8b11e94b415",
   "metadata": {},
   "source": [
    "# Building a set of dataframes for pyfolio"
   ]
  },
  {
   "cell_type": "code",
   "execution_count": null,
   "id": "7e920cfd-f079-4a3e-b9c7-f5b5e67ad26f",
   "metadata": {},
   "outputs": [],
   "source": [
    "import importlib\n",
    "import gzip\n",
    "import math\n",
    "import sys\n",
    "\n",
    "import arrow\n",
    "import pandas as pd\n",
    "import pandas_datareader as pdr\n",
    "import numpy as np\n",
    "\n",
    "sys.path.append('../src')"
   ]
  },
  {
   "cell_type": "code",
   "execution_count": null,
   "id": "6de9078e-1e71-481c-a493-31535f3bea04",
   "metadata": {},
   "outputs": [],
   "source": [
    "import quality_momentum as qm"
   ]
  },
  {
   "cell_type": "code",
   "execution_count": null,
   "id": "42cc6d44-c72a-49ad-880d-b2e11670b05e",
   "metadata": {},
   "outputs": [],
   "source": [
    "trading_day = arrow.get('2021-06-29')\n",
    "num_holdings = 5\n",
    "available_cash = 100_000\n",
    "tickers = qm.calculate_momentum.get_quality_momentum_stocks(trading_day, num_holdings)"
   ]
  },
  {
   "cell_type": "code",
   "execution_count": null,
   "id": "980fda5a-64b7-4d03-8c04-3ab6c49a802b",
   "metadata": {},
   "outputs": [],
   "source": [
    "print(tickers)"
   ]
  },
  {
   "cell_type": "code",
   "execution_count": null,
   "id": "67ebc438-4bb1-4b32-bdcf-b9673d513189",
   "metadata": {},
   "outputs": [],
   "source": [
    "data = [(x, math.floor(available_cash / len(tickers))) for x in tickers]\n",
    "print(data)\n",
    "df = pd.DataFrame(data, columns=[\"symbol\", \"position_size\"])\n",
    "df['price'] = df.apply(lambda x: get_adjusted_close(x['symbol'], trading_day), axis=1)\n",
    "df['amount'] = (df['position_size'] / df['price']).apply(np.floor)\n",
    "df['txn_dollars'] = df['price'] * df['amount']\n",
    "df['date'] = trading_day\n",
    "df.set_index('date', inplace=True)\n",
    "print(data)\n",
    "df.head()"
   ]
  },
  {
   "cell_type": "code",
   "execution_count": null,
   "id": "547eb26b-2904-4917-9d46-6dbc708610a2",
   "metadata": {},
   "outputs": [],
   "source": [
    "transactions = qm.portfolio.purchase_new_shares(trading_day, 100000, 4, qm.portfolio.WeightType.equal_weighted)\n",
    "transactions = transactions.append(qm.portfolio.purchase_new_shares(trading_day.shift(days=+6), 110000, 4, qm.portfolio.WeightType.equal_weighted))"
   ]
  },
  {
   "cell_type": "code",
   "execution_count": null,
   "id": "bd6cf48d-043e-4779-a319-21f72ee263e6",
   "metadata": {},
   "outputs": [],
   "source": [
    "transactions.head(10)"
   ]
  },
  {
   "cell_type": "markdown",
   "id": "141aa33f-7964-45ab-9246-5123e10c2243",
   "metadata": {},
   "source": [
    "## Time to generate some transactions!\n",
    "\n",
    "Concepts to figure out:\n",
    "- portfolio management\n",
    "- capital allocation\n",
    "- market-cap weighted vs equal weighted\n",
    "- how to roll through a period of time"
   ]
  },
  {
   "cell_type": "code",
   "execution_count": null,
   "id": "c6dd0666-b0f3-4fd9-ae97-4ef21b4d69a0",
   "metadata": {},
   "outputs": [],
   "source": [
    "test_portfolio = qm.portfolio.Portfolio(\n",
    "    start_date=arrow.get('2021-01-01'), \n",
    "    end_date=arrow.get('2021-06-29'), \n",
    "    capital_allocation=100000.0,\n",
    "    num_holdings=3,\n",
    "    weighting=qm.portfolio.WeightType.equal_weighted)"
   ]
  },
  {
   "cell_type": "code",
   "execution_count": null,
   "id": "48511ffd-2267-4a15-85a9-78d7a32ef420",
   "metadata": {},
   "outputs": [],
   "source": [
    "transactions = test_portfolio.transactions"
   ]
  },
  {
   "cell_type": "code",
   "execution_count": null,
   "id": "9db2fcec-2f11-4342-8085-c420d4eaf1c5",
   "metadata": {},
   "outputs": [],
   "source": [
    "positions = test_portfolio.positions"
   ]
  },
  {
   "cell_type": "code",
   "execution_count": null,
   "id": "5cda4ed2-91de-4a65-8069-b2e85032b2bc",
   "metadata": {},
   "outputs": [],
   "source": [
    "returns = test_portfolio.returns"
   ]
  },
  {
   "cell_type": "code",
   "execution_count": null,
   "id": "7d5e9b52-ec2e-4678-adad-c5b0a044754e",
   "metadata": {},
   "outputs": [],
   "source": [
    "transactions"
   ]
  },
  {
   "cell_type": "code",
   "execution_count": null,
   "id": "ad8bfadc-3074-4693-a626-62daada118ab",
   "metadata": {},
   "outputs": [],
   "source": [
    "positions"
   ]
  },
  {
   "cell_type": "code",
   "execution_count": null,
   "id": "241284e9-e214-4b20-9246-38362cd2ba63",
   "metadata": {},
   "outputs": [],
   "source": [
    "returns"
   ]
  },
  {
   "cell_type": "code",
   "execution_count": null,
   "id": "8c38d8e1-d8fd-470a-aa80-5e82a33b56a2",
   "metadata": {},
   "outputs": [],
   "source": [
    "new_df = new_df.pivot_table(index='date', columns='symbol', values='value')"
   ]
  },
  {
   "cell_type": "code",
   "execution_count": null,
   "id": "765685d4-27b9-4d6b-8a22-a9c407fd6a48",
   "metadata": {},
   "outputs": [],
   "source": [
    "new_df"
   ]
  },
  {
   "cell_type": "code",
   "execution_count": null,
   "id": "ca478d77-6ed7-4501-a8fc-407c3c599a2a",
   "metadata": {},
   "outputs": [],
   "source": [
    "trading_day = arrow.get('2018-01-02')\n",
    "data = [\n",
    "    {'date': trading_day, 'symbol': 'BA', 'price': 300.05, 'amount': 10, 'txn_dollars': 3000.05},\n",
    "    {'date': trading_day, 'symbol': 'FB', 'price': 185.58, 'amount': 20, 'txn_dollars': 3711.60},\n",
    "    {'date': trading_day, 'symbol': 'MCD', 'price': 152.56, 'amount': 40, 'txn_dollars': 6102.4}\n",
    "]\n",
    "new_transactions = pd.DataFrame(data)\n",
    "new_transactions.set_index('date', inplace=True)"
   ]
  },
  {
   "cell_type": "code",
   "execution_count": null,
   "id": "5f48a191-e510-4e39-b572-8a09ce527f57",
   "metadata": {},
   "outputs": [],
   "source": [
    "existing_transactions = test_portfolio.transactions"
   ]
  },
  {
   "cell_type": "code",
   "execution_count": null,
   "id": "6c6eac26-de7e-427e-bf3a-33c4f074732a",
   "metadata": {},
   "outputs": [],
   "source": [
    "fresh_transactions = existing_transactions.append(new_transactions)"
   ]
  },
  {
   "cell_type": "code",
   "execution_count": null,
   "id": "858894f3-ad03-43d6-9eed-2105d83702a4",
   "metadata": {},
   "outputs": [],
   "source": [
    "fresh_transactions.head(10)"
   ]
  },
  {
   "cell_type": "code",
   "execution_count": null,
   "id": "f1ca6b69-a4d2-4445-aaf7-39b2ddfd0451",
   "metadata": {},
   "outputs": [],
   "source": [
    "current_positions = fresh_transactions.groupby(['symbol'])['amount'].sum().to_frame()\n",
    "current_positions['date'] = trading_day"
   ]
  },
  {
   "cell_type": "code",
   "execution_count": null,
   "id": "2be86489-1be6-4d0e-baf7-580ceea7142b",
   "metadata": {},
   "outputs": [],
   "source": [
    "current_positions"
   ]
  },
  {
   "cell_type": "code",
   "execution_count": null,
   "id": "3d42be59-44ae-41b4-80db-a6fe039228c1",
   "metadata": {},
   "outputs": [],
   "source": [
    "current_positions = current_positions.reset_index().set_index('date')\n",
    "current_positions"
   ]
  },
  {
   "cell_type": "code",
   "execution_count": null,
   "id": "45af6983-4e9b-44c5-8cc8-8d2e49779989",
   "metadata": {},
   "outputs": [],
   "source": [
    "current_positions['price'] = current_positions.apply(lambda x: portfolio.get_adjusted_close(x['symbol'], trading_day), axis=1)\n",
    "current_positions['value'] = current_positions['price'] * current_positions['amount']\n",
    "print(current_positions)"
   ]
  },
  {
   "cell_type": "code",
   "execution_count": null,
   "id": "d59431b4-fd72-4495-b8b9-ef5e6c10e11a",
   "metadata": {},
   "outputs": [],
   "source": [
    "current_positions.query('amount>150')"
   ]
  },
  {
   "cell_type": "code",
   "execution_count": null,
   "id": "eca384d7-d651-4a3a-8ad3-a15bbdf88002",
   "metadata": {},
   "outputs": [],
   "source": []
  }
 ],
 "metadata": {
  "kernelspec": {
   "display_name": "Python 3 (ipykernel)",
   "language": "python",
   "name": "python3"
  },
  "language_info": {
   "codemirror_mode": {
    "name": "ipython",
    "version": 3
   },
   "file_extension": ".py",
   "mimetype": "text/x-python",
   "name": "python",
   "nbconvert_exporter": "python",
   "pygments_lexer": "ipython3",
   "version": "3.8.10"
  }
 },
 "nbformat": 4,
 "nbformat_minor": 5
}
