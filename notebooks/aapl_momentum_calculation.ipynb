{
 "cells": [
  {
   "cell_type": "markdown",
   "id": "everyday-species",
   "metadata": {},
   "source": [
    "# Identify top decile of momentum stocks\n",
    "> To calculate the cumulative return over the past 12 months, we take the net return streams from each month and turn them into gross returns by adding 1. Thus, if Apple's net returns for January are –10.77 percent, Apple's gross returns for January are 0.8923 (–0.1077 + 1). Then, we multiply all the gross return series (i.e., months) and subtract 1 to find the cumulative 12-month net return. ([Location 2467](https://readwise.io/to_kindle?action=open&asin=B01LY6P2LB&location=2467))"
   ]
  },
  {
   "cell_type": "code",
   "execution_count": null,
   "id": "beautiful-mainland",
   "metadata": {},
   "outputs": [],
   "source": [
    "%load_ext dotenv\n",
    "%dotenv"
   ]
  },
  {
   "cell_type": "code",
   "execution_count": null,
   "id": "welcome-meter",
   "metadata": {},
   "outputs": [],
   "source": [
    "import pandas_datareader as pdr\n",
    "import pandas as pd\n",
    "import matplotlib.pyplot as plt\n",
    "import numpy as np\n",
    "import arrow"
   ]
  },
  {
   "cell_type": "code",
   "execution_count": null,
   "id": "loving-violence",
   "metadata": {},
   "outputs": [],
   "source": [
    "now = arrow.get('2017-10-03')\n",
    "# calculate lookback period for momentum\n",
    "# start period defined as the first day of the month, 13 months ago, enabling us to get initial value to compare\n",
    "start_period = now.shift(months=-12).replace(day=1).format('YYYY-MM-DD')\n",
    "# end period excludes the most recent full month, (exclusive)\n",
    "end_period = now.shift(months=-1).replace(day=1).format('YYYY-MM-DD')\n",
    "print(start_period)\n",
    "print(end_period)\n",
    "type(now)"
   ]
  },
  {
   "cell_type": "code",
   "execution_count": null,
   "id": "unusual-issue",
   "metadata": {},
   "outputs": [],
   "source": [
    "ticker = pdr.quandl.QuandlReader('AAPL', start_period, end_period).read()"
   ]
  },
  {
   "cell_type": "code",
   "execution_count": null,
   "id": "coated-intranet",
   "metadata": {},
   "outputs": [],
   "source": [
    "ticker = ticker.sort_index()"
   ]
  },
  {
   "cell_type": "code",
   "execution_count": null,
   "id": "hybrid-occasions",
   "metadata": {},
   "outputs": [],
   "source": [
    "ticker['daily_returns'] = ticker['AdjClose'].pct_change()"
   ]
  },
  {
   "cell_type": "code",
   "execution_count": null,
   "id": "alpine-illinois",
   "metadata": {},
   "outputs": [],
   "source": [
    "monthly_returns = ticker['daily_returns'].resample('M').apply(lambda x: ((x + 1).cumprod()).last(\"D\"))"
   ]
  },
  {
   "cell_type": "code",
   "execution_count": null,
   "id": "established-helena",
   "metadata": {},
   "outputs": [],
   "source": [
    "monthly_returns"
   ]
  },
  {
   "cell_type": "code",
   "execution_count": null,
   "id": "fancy-output",
   "metadata": {},
   "outputs": [],
   "source": [
    "twelve_month_lookback_momentum = np.prod(monthly_returns) - 1\n",
    "print(twelve_month_lookback_momentum)"
   ]
  },
  {
   "cell_type": "code",
   "execution_count": null,
   "id": "intermediate-intervention",
   "metadata": {},
   "outputs": [],
   "source": []
  }
 ],
 "metadata": {
  "kernelspec": {
   "display_name": "Python 3",
   "language": "python",
   "name": "python3"
  },
  "language_info": {
   "codemirror_mode": {
    "name": "ipython",
    "version": 3
   },
   "file_extension": ".py",
   "mimetype": "text/x-python",
   "name": "python",
   "nbconvert_exporter": "python",
   "pygments_lexer": "ipython3",
   "version": "3.8.4"
  }
 },
 "nbformat": 4,
 "nbformat_minor": 5
}
