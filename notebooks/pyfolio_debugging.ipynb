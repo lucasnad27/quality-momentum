{
 "cells": [
  {
   "cell_type": "markdown",
   "id": "9f522a27-2f81-44b3-8b5b-504b1d633cfe",
   "metadata": {},
   "source": [
    "# Pyfolio Testing"
   ]
  },
  {
   "cell_type": "code",
   "execution_count": null,
   "id": "f51d1a7f-f892-4ec1-8e23-2e7aeec8f751",
   "metadata": {},
   "outputs": [],
   "source": [
    "import arrow\n",
    "import pyfolio as pf\n",
    "import pandas as pd\n",
    "\n",
    "import sys; sys.path.append('../src')\n",
    "import quality_momentum as qm\n",
    "\n",
    "import warnings\n",
    "from matplotlib.cbook import MatplotlibDeprecationWarning\n",
    "# these are mainly for 3rd party lib, pyfolio, f*ck you Robinhood\n",
    "warnings.filterwarnings(\"ignore\", category=MatplotlibDeprecationWarning) \n",
    "warnings.filterwarnings(\"ignore\", category=UserWarning)\n",
    "warnings.filterwarnings(\"ignore\", category=RuntimeWarning)\n",
    "warnings.filterwarnings(\"ignore\", category=FutureWarning)"
   ]
  },
  {
   "cell_type": "code",
   "execution_count": null,
   "id": "383639cb-1772-484f-9309-b7e8ea23a9fa",
   "metadata": {},
   "outputs": [],
   "source": [
    "test_portfolio = qm.portfolio.Portfolio(\n",
    "    start_date=arrow.get('2021-01-01'), \n",
    "    end_date=arrow.get('2021-06-29'), \n",
    "    capital_allocation=100000.0,\n",
    "    num_holdings=3,\n",
    "    weighting=qm.portfolio.WeightType.equal_weighted)"
   ]
  },
  {
   "cell_type": "code",
   "execution_count": null,
   "id": "21e595bd-c8cb-45a2-b1ba-81f886e2ea9a",
   "metadata": {},
   "outputs": [],
   "source": [
    "returns, positions, transactions = test_portfolio.returns, test_portfolio.positions, test_portfolio.transactions"
   ]
  },
  {
   "cell_type": "code",
   "execution_count": null,
   "id": "541743fb-fe8f-4ff4-996b-23eb7b1fd850",
   "metadata": {},
   "outputs": [],
   "source": [
    "# this only works if your live_start_date\n",
    "pf.create_full_tear_sheet(returns, positions=positions, transactions=transactions, round_trips=True)"
   ]
  },
  {
   "cell_type": "code",
   "execution_count": null,
   "id": "573046ca-79b7-4a44-b6e5-b767ace7b75c",
   "metadata": {},
   "outputs": [],
   "source": [
    "pf.create_full_tear_sheet(returns, positions=positions, transactions=transactions,\n",
    "                          live_start_date='2021-01-', round_trips=True)"
   ]
  },
  {
   "cell_type": "code",
   "execution_count": null,
   "id": "28a0c33c-0912-4a54-a4a5-f38a8b110c45",
   "metadata": {},
   "outputs": [],
   "source": [
    "pf.plot_drawdown_periods(returns, top=5).set_xlabel('Date')"
   ]
  },
  {
   "cell_type": "code",
   "execution_count": null,
   "id": "3e82ce8f-37b1-4e50-b455-edda15df8ef2",
   "metadata": {},
   "outputs": [],
   "source": [
    "postitions"
   ]
  },
  {
   "cell_type": "code",
   "execution_count": null,
   "id": "33c5d262-511d-4b93-b9f0-e9135c8b3265",
   "metadata": {},
   "outputs": [],
   "source": [
    "returns.idxmin()"
   ]
  },
  {
   "cell_type": "code",
   "execution_count": null,
   "id": "56d24109-c350-43b9-ad7e-38794302eac5",
   "metadata": {},
   "outputs": [],
   "source": [
    "returns.axes"
   ]
  },
  {
   "cell_type": "code",
   "execution_count": null,
   "id": "6e69adff-bbbe-496d-9845-c38fff650a13",
   "metadata": {},
   "outputs": [],
   "source": [
    "arrow.get(arrow.utcnow().date()).naive"
   ]
  },
  {
   "cell_type": "code",
   "execution_count": null,
   "id": "6a4240c7-5aec-4016-ba9d-f9ae9c837430",
   "metadata": {},
   "outputs": [],
   "source": [
    "returns.index"
   ]
  },
  {
   "cell_type": "code",
   "execution_count": null,
   "id": "2834c984-7e94-4281-84b1-f084e2d8d7a3",
   "metadata": {},
   "outputs": [],
   "source": [
    "# need to get all datetime indexes to look like this...\n",
    "# 2004-01-02 00:00:00+00:00\n",
    "# current looks like this\n",
    "# 2021-01-04"
   ]
  },
  {
   "cell_type": "code",
   "execution_count": null,
   "id": "27168c43-049f-4548-8caa-07c15c3f4ece",
   "metadata": {},
   "outputs": [],
   "source": [
    "import pytz, arrow"
   ]
  },
  {
   "cell_type": "code",
   "execution_count": null,
   "id": "fc52f0f3-7bd6-443b-a3f7-3c9755f10312",
   "metadata": {},
   "outputs": [],
   "source": [
    "pytz.UTC"
   ]
  },
  {
   "cell_type": "code",
   "execution_count": null,
   "id": "8490b2a8-bfc7-4dd4-b428-560717224757",
   "metadata": {},
   "outputs": [],
   "source": [
    "pytz."
   ]
  },
  {
   "cell_type": "code",
   "execution_count": null,
   "id": "18fedb7f-05df-43b8-89fb-7d9494008816",
   "metadata": {},
   "outputs": [],
   "source": [
    "now"
   ]
  },
  {
   "cell_type": "code",
   "execution_count": null,
   "id": "93a07ce1-e584-440a-be18-1b4db4cd5a58",
   "metadata": {},
   "outputs": [],
   "source": [
    "pytz."
   ]
  }
 ],
 "metadata": {
  "kernelspec": {
   "display_name": "Python 3 (ipykernel)",
   "language": "python",
   "name": "python3"
  },
  "language_info": {
   "codemirror_mode": {
    "name": "ipython",
    "version": 3
   },
   "file_extension": ".py",
   "mimetype": "text/x-python",
   "name": "python",
   "nbconvert_exporter": "python",
   "pygments_lexer": "ipython3",
   "version": "3.8.10"
  }
 },
 "nbformat": 4,
 "nbformat_minor": 5
}
