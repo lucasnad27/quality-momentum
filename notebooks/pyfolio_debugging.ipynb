{
 "cells": [
  {
   "cell_type": "markdown",
   "id": "9f522a27-2f81-44b3-8b5b-504b1d633cfe",
   "metadata": {},
   "source": [
    "# Pyfolio Testing"
   ]
  },
  {
   "cell_type": "code",
   "execution_count": null,
   "id": "f51d1a7f-f892-4ec1-8e23-2e7aeec8f751",
   "metadata": {},
   "outputs": [],
   "source": [
    "import arrow\n",
    "import pyfolio as pf\n",
    "\n",
    "import sys; sys.path.append('../src')\n",
    "import quality_momentum as qm"
   ]
  },
  {
   "cell_type": "code",
   "execution_count": null,
   "id": "383639cb-1772-484f-9309-b7e8ea23a9fa",
   "metadata": {},
   "outputs": [],
   "source": [
    "test_portfolio = qm.portfolio.Portfolio(\n",
    "    start_date=arrow.get('2021-01-01'), \n",
    "    end_date=arrow.get('2021-06-29'), \n",
    "    capital_allocation=100000.0,\n",
    "    num_holdings=3,\n",
    "    weighting=qm.portfolio.WeightType.equal_weighted)"
   ]
  },
  {
   "cell_type": "code",
   "execution_count": null,
   "id": "cf17ede1-1079-41ed-b965-8cda276bc8b8",
   "metadata": {
    "tags": []
   },
   "outputs": [],
   "source": [
    "returns, positions, transactions = test_portfolio.returns, test_portfolio.positions, test_portfolio.transactions"
   ]
  },
  {
   "cell_type": "code",
   "execution_count": null,
   "id": "9fdcb004-9c47-4c31-8a52-88c0674ee822",
   "metadata": {},
   "outputs": [],
   "source": [
    "transactions.index"
   ]
  },
  {
   "cell_type": "code",
   "execution_count": null,
   "id": "2fac3347-0120-49e7-a7c0-29eb902c5b88",
   "metadata": {},
   "outputs": [],
   "source": [
    "transactions = transactions.reset_index()"
   ]
  },
  {
   "cell_type": "code",
   "execution_count": null,
   "id": "46411b48-c979-4e37-a2b6-481fa313e6c4",
   "metadata": {},
   "outputs": [],
   "source": [
    "transactions.head(100)"
   ]
  },
  {
   "cell_type": "code",
   "execution_count": null,
   "id": "c76e3655-967b-4c22-a6f0-09dc1b48f62c",
   "metadata": {},
   "outputs": [],
   "source": [
    "pf.plot_drawdown_periods(returns, top=5).set_xlabel('Date')"
   ]
  },
  {
   "cell_type": "code",
   "execution_count": null,
   "id": "28a0c33c-0912-4a54-a4a5-f38a8b110c45",
   "metadata": {},
   "outputs": [],
   "source": [
    "pf.create_full_tear_sheet(returns, positions=positions, transactions=transactions,\n",
    "                          live_start_date='2021-01-01', round_trips=True)"
   ]
  },
  {
   "cell_type": "code",
   "execution_count": null,
   "id": "56d24109-c350-43b9-ad7e-38794302eac5",
   "metadata": {},
   "outputs": [],
   "source": []
  }
 ],
 "metadata": {
  "kernelspec": {
   "display_name": "Python 3 (ipykernel)",
   "language": "python",
   "name": "python3"
  },
  "language_info": {
   "codemirror_mode": {
    "name": "ipython",
    "version": 3
   },
   "file_extension": ".py",
   "mimetype": "text/x-python",
   "name": "python",
   "nbconvert_exporter": "python",
   "pygments_lexer": "ipython3",
   "version": "3.8.10"
  }
 },
 "nbformat": 4,
 "nbformat_minor": 5
}
